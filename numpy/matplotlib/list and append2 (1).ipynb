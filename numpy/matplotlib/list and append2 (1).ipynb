{
 "cells": [
  {
   "cell_type": "code",
   "execution_count": 44,
   "id": "9d74d486",
   "metadata": {},
   "outputs": [],
   "source": [
    "list=[1,2,3,4,5,6] "
   ]
  },
  {
   "cell_type": "code",
   "execution_count": 4,
   "id": "81e3557b",
   "metadata": {},
   "outputs": [
    {
     "data": {
      "text/plain": [
       "[1, 2, 3, 4, 5, 6]"
      ]
     },
     "execution_count": 4,
     "metadata": {},
     "output_type": "execute_result"
    }
   ],
   "source": [
    "list"
   ]
  },
  {
   "cell_type": "code",
   "execution_count": 5,
   "id": "28e77c7f",
   "metadata": {},
   "outputs": [],
   "source": [
    "a= 88/11"
   ]
  },
  {
   "cell_type": "code",
   "execution_count": 6,
   "id": "a16936f3",
   "metadata": {},
   "outputs": [
    {
     "data": {
      "text/plain": [
       "8.0"
      ]
     },
     "execution_count": 6,
     "metadata": {},
     "output_type": "execute_result"
    }
   ],
   "source": [
    "a"
   ]
  },
  {
   "cell_type": "code",
   "execution_count": 9,
   "id": "278cc463",
   "metadata": {},
   "outputs": [],
   "source": [
    "b=99*11"
   ]
  },
  {
   "cell_type": "code",
   "execution_count": 10,
   "id": "cd5ebd1b",
   "metadata": {},
   "outputs": [
    {
     "data": {
      "text/plain": [
       "1089"
      ]
     },
     "execution_count": 10,
     "metadata": {},
     "output_type": "execute_result"
    }
   ],
   "source": [
    "b"
   ]
  },
  {
   "cell_type": "code",
   "execution_count": 12,
   "id": "6d6d5e9f",
   "metadata": {},
   "outputs": [
    {
     "name": "stdout",
     "output_type": "stream",
     "text": [
      "8712.0\n"
     ]
    }
   ],
   "source": [
    "print(b*a)"
   ]
  },
  {
   "cell_type": "code",
   "execution_count": 13,
   "id": "b9a03fd2",
   "metadata": {},
   "outputs": [
    {
     "name": "stdout",
     "output_type": "stream",
     "text": [
      "1097.0\n"
     ]
    }
   ],
   "source": [
    "print(b+a)"
   ]
  },
  {
   "cell_type": "code",
   "execution_count": 14,
   "id": "1ebf4f80",
   "metadata": {},
   "outputs": [
    {
     "name": "stdout",
     "output_type": "stream",
     "text": [
      "1081.0\n"
     ]
    }
   ],
   "source": [
    "print(b-a)"
   ]
  },
  {
   "cell_type": "code",
   "execution_count": 15,
   "id": "eef4f2b7",
   "metadata": {},
   "outputs": [
    {
     "name": "stdout",
     "output_type": "stream",
     "text": [
      "-1081.0\n"
     ]
    }
   ],
   "source": [
    "print(a-b)"
   ]
  },
  {
   "cell_type": "code",
   "execution_count": 17,
   "id": "763faea3",
   "metadata": {},
   "outputs": [],
   "source": [
    "list=['ayesha','areeba','tehreem','jiya','abdullah']"
   ]
  },
  {
   "cell_type": "code",
   "execution_count": 18,
   "id": "1343ce68",
   "metadata": {},
   "outputs": [
    {
     "data": {
      "text/plain": [
       "['ayesha', 'areeba', 'tehreem', 'jiya', 'abdullah']"
      ]
     },
     "execution_count": 18,
     "metadata": {},
     "output_type": "execute_result"
    }
   ],
   "source": [
    "list"
   ]
  },
  {
   "cell_type": "code",
   "execution_count": 19,
   "id": "393c3e2a",
   "metadata": {},
   "outputs": [
    {
     "data": {
      "text/plain": [
       "'areeba'"
      ]
     },
     "execution_count": 19,
     "metadata": {},
     "output_type": "execute_result"
    }
   ],
   "source": [
    "list[1]"
   ]
  },
  {
   "cell_type": "code",
   "execution_count": 21,
   "id": "f7511e1b",
   "metadata": {},
   "outputs": [
    {
     "data": {
      "text/plain": [
       "'ayesha'"
      ]
     },
     "execution_count": 21,
     "metadata": {},
     "output_type": "execute_result"
    }
   ],
   "source": [
    "list[0]"
   ]
  },
  {
   "cell_type": "code",
   "execution_count": 25,
   "id": "0fb35ef7",
   "metadata": {},
   "outputs": [
    {
     "data": {
      "text/plain": [
       "'jiya'"
      ]
     },
     "execution_count": 25,
     "metadata": {},
     "output_type": "execute_result"
    }
   ],
   "source": [
    "list[2+1]"
   ]
  },
  {
   "cell_type": "code",
   "execution_count": 30,
   "id": "11d02c34",
   "metadata": {},
   "outputs": [],
   "source": [
    "list.append(['mama'])"
   ]
  },
  {
   "cell_type": "code",
   "execution_count": 31,
   "id": "c2710aa8",
   "metadata": {},
   "outputs": [
    {
     "data": {
      "text/plain": [
       "['ayesha', 'areeba', 'tehreem', 'jiya', 'abdullah', ['mama']]"
      ]
     },
     "execution_count": 31,
     "metadata": {},
     "output_type": "execute_result"
    }
   ],
   "source": [
    "list"
   ]
  },
  {
   "cell_type": "code",
   "execution_count": 33,
   "id": "9c06a66a",
   "metadata": {},
   "outputs": [],
   "source": [
    "list.append('papa')"
   ]
  },
  {
   "cell_type": "code",
   "execution_count": 34,
   "id": "df93bedb",
   "metadata": {},
   "outputs": [
    {
     "data": {
      "text/plain": [
       "['ayesha', 'areeba', 'tehreem', 'jiya', 'abdullah', ['mama'], 'papa']"
      ]
     },
     "execution_count": 34,
     "metadata": {},
     "output_type": "execute_result"
    }
   ],
   "source": [
    "list"
   ]
  },
  {
   "cell_type": "code",
   "execution_count": 37,
   "id": "a7919acc",
   "metadata": {},
   "outputs": [],
   "source": [
    "nicknames=['aash','meebi','temi','jialing','bibly','momzy','pops']"
   ]
  },
  {
   "cell_type": "code",
   "execution_count": 39,
   "id": "9368003b",
   "metadata": {},
   "outputs": [
    {
     "data": {
      "text/plain": [
       "'meebi'"
      ]
     },
     "execution_count": 39,
     "metadata": {},
     "output_type": "execute_result"
    }
   ],
   "source": [
    "nicknames[1]"
   ]
  },
  {
   "cell_type": "code",
   "execution_count": 40,
   "id": "bf602b22",
   "metadata": {},
   "outputs": [
    {
     "data": {
      "text/plain": [
       "'momzy'"
      ]
     },
     "execution_count": 40,
     "metadata": {},
     "output_type": "execute_result"
    }
   ],
   "source": [
    "nicknames[5]"
   ]
  },
  {
   "cell_type": "code",
   "execution_count": 41,
   "id": "0cb1ec2d",
   "metadata": {},
   "outputs": [
    {
     "data": {
      "text/plain": [
       "['momzy', 'pops']"
      ]
     },
     "execution_count": 41,
     "metadata": {},
     "output_type": "execute_result"
    }
   ],
   "source": [
    "nicknames[5:]"
   ]
  },
  {
   "cell_type": "code",
   "execution_count": 42,
   "id": "adac9707",
   "metadata": {},
   "outputs": [
    {
     "data": {
      "text/plain": [
       "['aash', 'meebi', 'temi', 'jialing', 'bibly']"
      ]
     },
     "execution_count": 42,
     "metadata": {},
     "output_type": "execute_result"
    }
   ],
   "source": [
    "nicknames[:5]"
   ]
  },
  {
   "cell_type": "code",
   "execution_count": null,
   "id": "294c335b",
   "metadata": {},
   "outputs": [],
   "source": []
  }
 ],
 "metadata": {
  "kernelspec": {
   "display_name": "Python 3",
   "language": "python",
   "name": "python3"
  },
  "language_info": {
   "codemirror_mode": {
    "name": "ipython",
    "version": 3
   },
   "file_extension": ".py",
   "mimetype": "text/x-python",
   "name": "python",
   "nbconvert_exporter": "python",
   "pygments_lexer": "ipython3",
   "version": "3.9.1"
  }
 },
 "nbformat": 4,
 "nbformat_minor": 5
}
