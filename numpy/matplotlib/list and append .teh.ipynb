{
 "cells": [
  {
   "cell_type": "code",
   "execution_count": 1,
   "id": "23539e2b",
   "metadata": {},
   "outputs": [],
   "source": [
    "a =300/5"
   ]
  },
  {
   "cell_type": "code",
   "execution_count": 2,
   "id": "c9a13c84",
   "metadata": {},
   "outputs": [
    {
     "data": {
      "text/plain": [
       "60.0"
      ]
     },
     "execution_count": 2,
     "metadata": {},
     "output_type": "execute_result"
    }
   ],
   "source": [
    "a"
   ]
  },
  {
   "cell_type": "code",
   "execution_count": 4,
   "id": "a22bf55d",
   "metadata": {},
   "outputs": [
    {
     "name": "stdout",
     "output_type": "stream",
     "text": [
      "60.0\n"
     ]
    }
   ],
   "source": [
    " print(a)"
   ]
  },
  {
   "cell_type": "code",
   "execution_count": 5,
   "id": "3ea0aedd",
   "metadata": {},
   "outputs": [],
   "source": [
    "b = 99/11"
   ]
  },
  {
   "cell_type": "code",
   "execution_count": 6,
   "id": "058e909a",
   "metadata": {},
   "outputs": [
    {
     "data": {
      "text/plain": [
       "9.0"
      ]
     },
     "execution_count": 6,
     "metadata": {},
     "output_type": "execute_result"
    }
   ],
   "source": [
    "b"
   ]
  },
  {
   "cell_type": "code",
   "execution_count": 8,
   "id": "ade0b2dc",
   "metadata": {},
   "outputs": [],
   "source": [
    "list = [1,2,3,4,'tehreem','ayesha']"
   ]
  },
  {
   "cell_type": "code",
   "execution_count": 9,
   "id": "57dea4fe",
   "metadata": {},
   "outputs": [
    {
     "data": {
      "text/plain": [
       "[1, 2, 3, 4, 'tehreem', 'ayesha']"
      ]
     },
     "execution_count": 9,
     "metadata": {},
     "output_type": "execute_result"
    }
   ],
   "source": [
    "list"
   ]
  },
  {
   "cell_type": "code",
   "execution_count": 10,
   "id": "1b6ea5e2",
   "metadata": {},
   "outputs": [],
   "source": [
    "list.append('tehreem')"
   ]
  },
  {
   "cell_type": "code",
   "execution_count": 50,
   "id": "bbf88400",
   "metadata": {},
   "outputs": [
    {
     "data": {
      "text/plain": [
       "[1, 2, 3, 4, 'tehreem', 'ayesha', 'tehreem', 'tehreem']"
      ]
     },
     "execution_count": 50,
     "metadata": {},
     "output_type": "execute_result"
    }
   ],
   "source": [
    "list"
   ]
  },
  {
   "cell_type": "code",
   "execution_count": 11,
   "id": "41cab119",
   "metadata": {},
   "outputs": [
    {
     "data": {
      "text/plain": [
       "2"
      ]
     },
     "execution_count": 11,
     "metadata": {},
     "output_type": "execute_result"
    }
   ],
   "source": [
    "list[1]"
   ]
  },
  {
   "cell_type": "code",
   "execution_count": 12,
   "id": "d7710eca",
   "metadata": {},
   "outputs": [
    {
     "data": {
      "text/plain": [
       "'tehreem'"
      ]
     },
     "execution_count": 12,
     "metadata": {},
     "output_type": "execute_result"
    }
   ],
   "source": [
    "list[4]"
   ]
  },
  {
   "cell_type": "code",
   "execution_count": 14,
   "id": "ade83400",
   "metadata": {},
   "outputs": [
    {
     "name": "stdout",
     "output_type": "stream",
     "text": [
      "[1, 2, 3, 4, 'tehreem', 'ayesha', 'tehreem']\n"
     ]
    }
   ],
   "source": [
    "print(list)"
   ]
  },
  {
   "cell_type": "code",
   "execution_count": 15,
   "id": "b94a9cbd",
   "metadata": {},
   "outputs": [
    {
     "name": "stdout",
     "output_type": "stream",
     "text": [
      "ayesha\n"
     ]
    }
   ],
   "source": [
    "print(list[5])"
   ]
  },
  {
   "cell_type": "code",
   "execution_count": 27,
   "id": "07ffef70",
   "metadata": {},
   "outputs": [],
   "source": [
    "d = { 'we have leant ':'python', 'i': 'like it'}"
   ]
  },
  {
   "cell_type": "code",
   "execution_count": 28,
   "id": "2fcd5935",
   "metadata": {},
   "outputs": [
    {
     "name": "stdout",
     "output_type": "stream",
     "text": [
      "{'we have leant ': 'python', 'i': 'like it'}\n"
     ]
    }
   ],
   "source": [
    "print (d)"
   ]
  },
  {
   "cell_type": "code",
   "execution_count": 29,
   "id": "5af7e871",
   "metadata": {},
   "outputs": [
    {
     "data": {
      "text/plain": [
       "'like it'"
      ]
     },
     "execution_count": 29,
     "metadata": {},
     "output_type": "execute_result"
    }
   ],
   "source": [
    "d['i']"
   ]
  },
  {
   "cell_type": "code",
   "execution_count": 40,
   "id": "86161c4f",
   "metadata": {},
   "outputs": [],
   "source": [
    "e = { 'my name is ':'tehreem', 'i study in': 'comsats university'}"
   ]
  },
  {
   "cell_type": "code",
   "execution_count": 41,
   "id": "48e810c4",
   "metadata": {},
   "outputs": [
    {
     "data": {
      "text/plain": [
       "{'my name is ': 'tehreem', 'i study in': 'comsats university'}"
      ]
     },
     "execution_count": 41,
     "metadata": {},
     "output_type": "execute_result"
    }
   ],
   "source": [
    "e"
   ]
  },
  {
   "cell_type": "code",
   "execution_count": 42,
   "id": "8cfbad37",
   "metadata": {},
   "outputs": [
    {
     "data": {
      "text/plain": [
       "'comsats university'"
      ]
     },
     "execution_count": 42,
     "metadata": {},
     "output_type": "execute_result"
    }
   ],
   "source": [
    "e ['i study in']"
   ]
  },
  {
   "cell_type": "code",
   "execution_count": 43,
   "id": "aaa1a833",
   "metadata": {},
   "outputs": [
    {
     "name": "stdout",
     "output_type": "stream",
     "text": [
      "tehreem\n"
     ]
    }
   ],
   "source": [
    "print(e['my name is '])"
   ]
  },
  {
   "cell_type": "code",
   "execution_count": 44,
   "id": "641a491b",
   "metadata": {},
   "outputs": [],
   "source": [
    "f = {'logout':'bye', 'login':'hello:)'}"
   ]
  },
  {
   "cell_type": "code",
   "execution_count": 45,
   "id": "6abdb441",
   "metadata": {},
   "outputs": [
    {
     "data": {
      "text/plain": [
       "{'logout': 'bye', 'login': 'hello:)'}"
      ]
     },
     "execution_count": 45,
     "metadata": {},
     "output_type": "execute_result"
    }
   ],
   "source": [
    "f"
   ]
  },
  {
   "cell_type": "code",
   "execution_count": 46,
   "id": "4d16ba46",
   "metadata": {},
   "outputs": [
    {
     "data": {
      "text/plain": [
       "'bye'"
      ]
     },
     "execution_count": 46,
     "metadata": {},
     "output_type": "execute_result"
    }
   ],
   "source": [
    "f['logout']"
   ]
  },
  {
   "cell_type": "code",
   "execution_count": 48,
   "id": "febd578b",
   "metadata": {},
   "outputs": [
    {
     "data": {
      "text/plain": [
       "'hello:)'"
      ]
     },
     "execution_count": 48,
     "metadata": {},
     "output_type": "execute_result"
    }
   ],
   "source": [
    "f['login']"
   ]
  },
  {
   "cell_type": "code",
   "execution_count": null,
   "id": "bbeb56e7",
   "metadata": {},
   "outputs": [],
   "source": []
  }
 ],
 "metadata": {
  "kernelspec": {
   "display_name": "Python 3",
   "language": "python",
   "name": "python3"
  },
  "language_info": {
   "codemirror_mode": {
    "name": "ipython",
    "version": 3
   },
   "file_extension": ".py",
   "mimetype": "text/x-python",
   "name": "python",
   "nbconvert_exporter": "python",
   "pygments_lexer": "ipython3",
   "version": "3.9.1"
  }
 },
 "nbformat": 4,
 "nbformat_minor": 5
}
